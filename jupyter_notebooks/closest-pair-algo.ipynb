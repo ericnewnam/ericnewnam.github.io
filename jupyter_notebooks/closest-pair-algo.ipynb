{
 "cells": [
  {
   "cell_type": "markdown",
   "metadata": {},
   "source": [
    "Recursively finding the closest pair of points in a 2D space."
   ]
  },
  {
   "cell_type": "code",
   "execution_count": 1,
   "metadata": {
    "collapsed": true
   },
   "outputs": [],
   "source": [
    "import os\n",
    "import math"
   ]
  },
  {
   "cell_type": "code",
   "execution_count": 2,
   "metadata": {
    "collapsed": true
   },
   "outputs": [],
   "source": [
    "def merge(left, right, mode):\n",
    "  hiLeft = len(left) - 1\n",
    "  hiRight = len(right) - 1\n",
    "  i = 0\n",
    "  j = 0\n",
    "  mergedList = []\n",
    "  while i <= hiLeft and j <= hiRight:\n",
    "    if mode == 'x':\n",
    "      if left[i][0] <= right[j][0]:\n",
    "        mergedList.append(left[i])\n",
    "        i += 1\n",
    "      else:\n",
    "        mergedList.append(right[j])\n",
    "        j += 1\n",
    "    elif mode == 'y':\n",
    "      if left[i][1] <= right[j][1]:\n",
    "        mergedList.append(left[i])\n",
    "        i += 1\n",
    "      else:\n",
    "        mergedList.append(right[j])\n",
    "        j += 1\n",
    "\n",
    "  while i <= hiLeft:\n",
    "    mergedList.append(left[i])\n",
    "    i += 1\n",
    "  while j <= hiRight:\n",
    "    mergedList.append(right[j])\n",
    "    j += 1\n",
    "  return mergedList"
   ]
  },
  {
   "cell_type": "code",
   "execution_count": 3,
   "metadata": {
    "collapsed": true
   },
   "outputs": [],
   "source": [
    "def mergeSortX(a):\n",
    "  lo = 0\n",
    "  hi = len(a) - 1\n",
    "  if hi == 0:\n",
    "    return a\n",
    "  if lo < hi:\n",
    "    mid = (lo + hi) // 2\n",
    "    left = mergeSortX(a[lo:mid+1])\n",
    "    right = mergeSortX(a[mid+1:hi+1])\n",
    "    return merge(left, right, 'x')\n",
    "\n",
    "def mergeSortY(a):\n",
    "  lo = 0\n",
    "  hi = len(a) - 1\n",
    "  if hi == 0:\n",
    "    return a\n",
    "  if lo < hi:\n",
    "    mid = (lo + hi) // 2\n",
    "    left = mergeSortY(a[lo:mid+1])\n",
    "    right = mergeSortY(a[mid+1:hi+1])\n",
    "    return merge(left, right, 'y')"
   ]
  },
  {
   "cell_type": "code",
   "execution_count": 4,
   "metadata": {
    "collapsed": true
   },
   "outputs": [],
   "source": [
    "def pointDist(p1, p2):\n",
    "  dist = 0.0\n",
    "  dist = math.sqrt((p2[0] - p1[0]) * (p2[0] - p1[0]) + (p2[1] - p1[1]) * (p2[1] - p1[1]))\n",
    "  return dist"
   ]
  },
  {
   "cell_type": "code",
   "execution_count": 5,
   "metadata": {
    "collapsed": true
   },
   "outputs": [],
   "source": [
    "def findClosestAux(xList, yList):\n",
    "  lo = 0\n",
    "  hi = len(xList) - 1\n",
    "  mid = (lo + hi) // 2\n",
    "\n",
    "  # Brute Force method for 2 or 3 items:\n",
    "  \n",
    "  if len(xList) == 3:\n",
    "    min1 = pointDist(xList[0], xList[1])\n",
    "    min2 = pointDist(xList[1], xList[2])\n",
    "    min3 = pointDist(xList[0], xList[2])\n",
    "    minimumDist = min(min1, min2, min3)\n",
    "    if min1 == minimumDist: return [minimumDist, xList[0], xList[1]]\n",
    "    if min2 == minimumDist: return [minimumDist, xList[1], xList[2]]\n",
    "    if min3 == minimumDist: return [minimumDist, xList[0], xList[2]]\n",
    "  elif len(xList) == 2:\n",
    "    min1 = pointDist(xList[0], xList[1])\n",
    "    return [min1, xList[0], xList[1]]\n",
    "\n",
    "  # recursive call:\n",
    "  \n",
    "  minimum = min(findClosestAux(xList[lo:mid+1], yList), findClosestAux(xList[mid+1:hi+1], yList))\n",
    "  \n",
    "  theMinimumDist = minimum[0]\n",
    "  theMinimumPair = [minimum[1], minimum[2]]\n",
    "\n",
    "  # the vertical strip portion:\n",
    "  # find points within the delta minimum middle,\n",
    "  # vertical line is at x = xList[mid][0], y = same y\n",
    "\n",
    "  listYMin = []\n",
    "  for point in yList:\n",
    "    referenceLine = [xList[mid][0], point[1]]\n",
    "    if pointDist(point, referenceLine) <= theMinimumDist:\n",
    "      listYMin.append(point)\n",
    "\n",
    "  # scan listYMin and compare to next 7 points:\n",
    "\n",
    "  centerLineResult = []  # [float, int, int]\n",
    "  totalLength = len(listYMin)\n",
    "\n",
    "  j = 0\n",
    "  for i in range(0, totalLength - 1):\n",
    "    j = i + 1\n",
    "    while j < i+8 and j < totalLength:\n",
    "      currentMinDist = pointDist(listYMin[i], listYMin[j])\n",
    "      if currentMinDist < theMinimumDist:\n",
    "        centerLineResult.append([currentMinDist, i, j])\n",
    "      j = j + 1\n",
    "\n",
    "  # get the smallest value from the center list:\n",
    "\n",
    "  centerMin = theMinimumDist # initialize\n",
    "  centerPair = []\n",
    "  if len(centerLineResult) > 0:\n",
    "    centerMin = centerLineResult[0][0]\n",
    "    centerPair = [listYMin[centerLineResult[0][1]], listYMin[centerLineResult[0][2]]]\n",
    "    for triplet in centerLineResult:\n",
    "      if triplet[0] < centerMin:\n",
    "        centerPair = [listYMin[triplet[1]], listYMin[triplet[2]]]\n",
    "\n",
    "  # report results:\n",
    "\n",
    "  finalMinimumDist = theMinimumDist # float\n",
    "  finalMinimumPair = theMinimumPair # two lists\n",
    "  if centerMin < theMinimumDist:\n",
    "    finalMinimumDist = centerMin\n",
    "    finalMinimumPair = centerPair\n",
    "\n",
    "  return [finalMinimumDist, finalMinimumPair[0], finalMinimumPair[1]]"
   ]
  },
  {
   "cell_type": "code",
   "execution_count": 7,
   "metadata": {},
   "outputs": [
    {
     "name": "stdout",
     "output_type": "stream",
     "text": [
      "The minimum distance is: 47.853944456021594\n",
      "The closest pair is: [42980, 10593] <----> [42989, 10546]\n",
      "\n",
      "\n"
     ]
    }
   ],
   "source": [
    "with open('1000points.txt', 'r') as inFile:\n",
    "  pointsList = inFile.readlines() # list of lines\n",
    "  inFile.close()\n",
    "\n",
    "# split them into the X array and Y array:\n",
    "xList = []  # list of pairs\n",
    "yList = []\n",
    "\n",
    "for item in pointsList:\n",
    "  currentPointStr = item.split()\n",
    "  currentPointInts = [int(currentPointStr[0]), int(currentPointStr[1])]\n",
    "  xList.append(currentPointInts)\n",
    "\n",
    "# copy the x array into the y array:\n",
    "\n",
    "for item in xList:\n",
    "  yList.append(item)\n",
    "\n",
    "# sort x and y list:\n",
    "\n",
    "sortedXList = mergeSortX(xList)\n",
    "sortedYList = mergeSortY(yList)\n",
    "\n",
    "result = findClosestAux(sortedXList, sortedYList)\n",
    "\n",
    "print('The minimum distance is: ' + str(result[0]))\n",
    "print('The closest pair is: ' + str(result[1]) + ' <----> ' + str(result[2]))\n",
    "print('\\n')"
   ]
  },
  {
   "cell_type": "code",
   "execution_count": null,
   "metadata": {
    "collapsed": true
   },
   "outputs": [],
   "source": []
  }
 ],
 "metadata": {
  "kernelspec": {
   "display_name": "Python 3",
   "language": "python",
   "name": "python3"
  },
  "language_info": {
   "codemirror_mode": {
    "name": "ipython",
    "version": 3
   },
   "file_extension": ".py",
   "mimetype": "text/x-python",
   "name": "python",
   "nbconvert_exporter": "python",
   "pygments_lexer": "ipython3",
   "version": "3.6.3"
  }
 },
 "nbformat": 4,
 "nbformat_minor": 2
}
