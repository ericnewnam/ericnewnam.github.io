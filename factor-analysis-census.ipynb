{
 "cells": [
  {
   "cell_type": "markdown",
   "metadata": {},
   "source": [
    "## Factor Analysis: Finding Underlying Factors Within the General Economic Characteristics of American Communities that Affect the Poverty Rate.   \n",
    "\n",
    "### Overview of the Dataset\n",
    "\n",
    "General economic characteristics of American communities are broken down in detail by census tract ID number, county, and state. The features of this dataset pertain to the general economic and employment-related conditions of different demographic and racial groups.  \n",
    "\n",
    "The data here represents general economic characteristics of all American census tracts and were collected by the US Census Bureau - each observation represents a numbered unique census tract. They are taken from the DP03 and DP05 tables of the 2015 American Community Survey 5-year estimates. A typical census tract has around approximately 5000 residents.  \n",
    "\n",
    "- Source: US Census Bureau\n",
    "- Metric Variables: 34\n",
    "- Categorical Variables: 2\n",
    "- Number of Samples: 3,220 (by county)  \n",
    "\n",
    "### Summary\n",
    "\n",
    "Using the findings of previous analyses, we explored the possibility of other underlying factors relating to the poverty rate within a given Census tract, outside of race/ethnicity. The 5 factors that resulted from the analysis appear to clearly relate to certain aspects of the population within the dataset. **Factor 1** *is related to how much the worker is able to work from their home.* **Factor 2** *is related to how much the worker is impoverished, low income, and works in the Service industry.* **Factor 3** *is related to how much the person takes other transportation and does not drive to work.* **Factor 4** *relates to whether the worker is a white-collar professional and not working in a production or labor position.* **Factor 5** *relates to the degree of private sector work that the worker is engaged in.*  \n",
    "\n",
    "For a given Census tract, a following analysis showed that for every increase of 1% of workers engaged in public jobs, the Poverty rate increases by **2.59%.** For every increase of 1% of professional white-collar workers, the Poverty rate decreases by **3.22%.** For every increase of 1% of self employed workers, the Poverty rate decreases by **0.79%.** For every increase of 1% of workers in the Census tract that drive themselves to work, the resulting Poverty rate increases by **0.18%.**  \n",
    "\n",
    "Our analysis has shown that underlying the surface characteristics of this dataset, there are several significant entangled factors that have an effect on the Poverty rate of a given Census tract. Income, unemployment rate, working in the service industry, workers in public jobs, professional, self employed, and workers that self-drive are all predictors that have an effect on the poverty rate.  \n",
    "\n",
    "Predictors that show an increasing effect are: Unemployment rate, percent in Service jobs, percent of workers in Public Work, and to a lesser extent, the percentage of workers that Self Drive. Predictors that show a decreasing effect are: the Income level, percentage of Professional workers, and percentage of Self Employed workers.  \n",
    "\n",
    "### Feature Information:\n",
    "```\n",
    "['CensusId',          Census tract ID\n",
    " 'State',             State, DC, or Puerto Rico (52 unique categories)\n",
    " 'County',            County or county equivalent\n",
    " \n",
    " 'TotalPop',          Total population\n",
    " 'Men',               Number of men\n",
    " 'Women',             Number of women\n",
    " \n",
    " 'Hispanic',          % of population that is Hispanic/Latino\n",
    " 'White',             % of population that is white\n",
    " 'Black',             % of population that is black\n",
    " 'Native',            % of population that is Native American or Native Alaskan\n",
    " 'Asian',             % of population that is Asian\n",
    " 'Pacific',           % of population that is Native Hawaiian or Pacific Islander\n",
    " \n",
    " 'Citizen',           Number of citizens\n",
    " 'Income',            Median household income\n",
    " 'IncomeErr',         Median household income error \n",
    " 'IncomePerCap',      Income per capita\n",
    " 'IncomePerCapErr',   Income per capita error\n",
    " \n",
    " 'Poverty',           % under poverty level\n",
    " 'ChildPoverty',      % of children under poverty level\n",
    " \n",
    " 'Professional',      % employed in management, business, science, and arts\n",
    " 'Service',           % employed in service jobs\n",
    " 'Office',            % employed in sales and office jobs\n",
    " 'Construction',      % employed in natural resources, construction, and maintenance\n",
    " 'Production',        % employed in production, transportation, and material movement\n",
    " \n",
    " 'Drive',             % commuting alone in a car, van, or truck\n",
    " 'Carpool',           % carpooling in a car, van, or truck\n",
    " 'Transit',           % commuting on public transportation\n",
    " 'Walk',              % walking to work\n",
    " 'OtherTransp',       % commuting via other means\n",
    " 'WorkAtHome',        % working at home\n",
    " \n",
    " 'MeanCommute',       Mean commute time (minutes)\n",
    " \n",
    " 'Employed',          % employed (16+)\n",
    " 'PrivateWork',       % employed in private industry\n",
    " 'PublicWork',        % employed in public jobs\n",
    " 'SelfEmployed',      % self-employed\n",
    " 'FamilyWork',        % in unpaid family work\n",
    " \n",
    " 'Unemployment']      Unemployment rate (%)\n",
    " ```\n",
    " ### Initial Exploratory Analysis: \n",
    " \n",
    " An initial exploratory analysis was performed on the dataset in order to gain a sense of direction for our potential analytical methods. Bivariate scatterplots between the **Unemployment** rate and the **ethnic/racial** group percentage showed a strong correlation. There were clear patterns in the data indicating that the **Unemployment rate**, the **Child Poverty** rate, correlated either in a positive or negative direction depending on the ethnic/racial breakdown of a particular community. A bivariate scatterplot between the **Child Poverty** rate versus the percentage of whites in a county showed a moderate negative correlation, and the same plot with percentage of Hispanics showed an opposite relationship.  \n",
    "\n",
    "After examining exploratory plots and relationships between variables, it was apparent that there were potential underlying factors or variables that drive the levels of **Unemployment** and **Child Poverty** rate, or **Income.** There was also be an opportunity to examine the economic differences between **Men** and **Women**, and their respective employment positions, i.e. **Professional, Office, Service, Construction, Production,** and **Public Work** or **Private Work.** A principal component analysis was later performed, aiming to find a relationship between the different demographic and/or racial groups (6 categories) and these respective professional groups. A factor analysis was also later performed on a slightly different subset of the dataset features than was used on the PCA, hoping to find other underlying factors that relate to these economic characteristics. "
   ]
  },
  {
   "cell_type": "code",
   "execution_count": 2,
   "metadata": {},
   "outputs": [],
   "source": [
    "library(stats)\n",
    "library(corrplot)\n",
    "library(car)\n",
    "library(QuantPsyc)\n",
    "library(leaps)\n",
    "library(psych)\n",
    "library(ggplot2)\n",
    "library(lars)\n",
    "library(caret)\n",
    "library(klaR)"
   ]
  },
  {
   "cell_type": "markdown",
   "metadata": {},
   "source": [
    "Load the dataset:"
   ]
  },
  {
   "cell_type": "code",
   "execution_count": 6,
   "metadata": {},
   "outputs": [
    {
     "data": {
      "text/html": [
       "<table>\n",
       "<thead><tr><th scope=col>CensusId</th><th scope=col>State</th><th scope=col>County</th><th scope=col>TotalPop</th><th scope=col>Men</th><th scope=col>Women</th><th scope=col>Hispanic</th><th scope=col>White</th><th scope=col>Black</th><th scope=col>Native</th><th scope=col>...</th><th scope=col>Walk</th><th scope=col>OtherTransp</th><th scope=col>WorkAtHome</th><th scope=col>MeanCommute</th><th scope=col>Employed</th><th scope=col>PrivateWork</th><th scope=col>PublicWork</th><th scope=col>SelfEmployed</th><th scope=col>FamilyWork</th><th scope=col>Unemployment</th></tr></thead>\n",
       "<tbody>\n",
       "\t<tr><td>1001   </td><td>Alabama</td><td>Autauga</td><td> 55221 </td><td>26745  </td><td>28476  </td><td>2.6    </td><td>75.8   </td><td>18.5   </td><td>0.4    </td><td>...    </td><td>0.5    </td><td>1.3    </td><td>1.8    </td><td>26.5   </td><td>23986  </td><td>73.6   </td><td>20.9   </td><td>5.5    </td><td>0.0    </td><td> 7.6   </td></tr>\n",
       "\t<tr><td>1003   </td><td>Alabama</td><td>Baldwin</td><td>195121 </td><td>95314  </td><td>99807  </td><td>4.5    </td><td>83.1   </td><td> 9.5   </td><td>0.6    </td><td>...    </td><td>1.0    </td><td>1.4    </td><td>3.9    </td><td>26.4   </td><td>85953  </td><td>81.5   </td><td>12.3   </td><td>5.8    </td><td>0.4    </td><td> 7.5   </td></tr>\n",
       "\t<tr><td>1005   </td><td>Alabama</td><td>Barbour</td><td> 26932 </td><td>14497  </td><td>12435  </td><td>4.6    </td><td>46.2   </td><td>46.7   </td><td>0.2    </td><td>...    </td><td>1.8    </td><td>1.5    </td><td>1.6    </td><td>24.1   </td><td> 8597  </td><td>71.8   </td><td>20.8   </td><td>7.3    </td><td>0.1    </td><td>17.6   </td></tr>\n",
       "\t<tr><td>1007   </td><td>Alabama</td><td>Bibb   </td><td> 22604 </td><td>12073  </td><td>10531  </td><td>2.2    </td><td>74.5   </td><td>21.4   </td><td>0.4    </td><td>...    </td><td>0.6    </td><td>1.5    </td><td>0.7    </td><td>28.8   </td><td> 8294  </td><td>76.8   </td><td>16.1   </td><td>6.7    </td><td>0.4    </td><td> 8.3   </td></tr>\n",
       "\t<tr><td>1009   </td><td>Alabama</td><td>Blount </td><td> 57710 </td><td>28512  </td><td>29198  </td><td>8.6    </td><td>87.9   </td><td> 1.5   </td><td>0.3    </td><td>...    </td><td>0.9    </td><td>0.4    </td><td>2.3    </td><td>34.9   </td><td>22189  </td><td>82.0   </td><td>13.5   </td><td>4.2    </td><td>0.4    </td><td> 7.7   </td></tr>\n",
       "\t<tr><td>1011   </td><td>Alabama</td><td>Bullock</td><td> 10678 </td><td> 5660  </td><td> 5018  </td><td>4.4    </td><td>22.2   </td><td>70.7   </td><td>1.2    </td><td>...    </td><td>5.0    </td><td>1.7    </td><td>2.8    </td><td>27.5   </td><td> 3865  </td><td>79.5   </td><td>15.1   </td><td>5.4    </td><td>0.0    </td><td>18.0   </td></tr>\n",
       "</tbody>\n",
       "</table>\n"
      ],
      "text/latex": [
       "\\begin{tabular}{r|lllllllllllllllllllllllllllllllllllll}\n",
       " CensusId & State & County & TotalPop & Men & Women & Hispanic & White & Black & Native & ... & Walk & OtherTransp & WorkAtHome & MeanCommute & Employed & PrivateWork & PublicWork & SelfEmployed & FamilyWork & Unemployment\\\\\n",
       "\\hline\n",
       "\t 1001    & Alabama & Autauga &  55221  & 26745   & 28476   & 2.6     & 75.8    & 18.5    & 0.4     & ...     & 0.5     & 1.3     & 1.8     & 26.5    & 23986   & 73.6    & 20.9    & 5.5     & 0.0     &  7.6   \\\\\n",
       "\t 1003    & Alabama & Baldwin & 195121  & 95314   & 99807   & 4.5     & 83.1    &  9.5    & 0.6     & ...     & 1.0     & 1.4     & 3.9     & 26.4    & 85953   & 81.5    & 12.3    & 5.8     & 0.4     &  7.5   \\\\\n",
       "\t 1005    & Alabama & Barbour &  26932  & 14497   & 12435   & 4.6     & 46.2    & 46.7    & 0.2     & ...     & 1.8     & 1.5     & 1.6     & 24.1    &  8597   & 71.8    & 20.8    & 7.3     & 0.1     & 17.6   \\\\\n",
       "\t 1007    & Alabama & Bibb    &  22604  & 12073   & 10531   & 2.2     & 74.5    & 21.4    & 0.4     & ...     & 0.6     & 1.5     & 0.7     & 28.8    &  8294   & 76.8    & 16.1    & 6.7     & 0.4     &  8.3   \\\\\n",
       "\t 1009    & Alabama & Blount  &  57710  & 28512   & 29198   & 8.6     & 87.9    &  1.5    & 0.3     & ...     & 0.9     & 0.4     & 2.3     & 34.9    & 22189   & 82.0    & 13.5    & 4.2     & 0.4     &  7.7   \\\\\n",
       "\t 1011    & Alabama & Bullock &  10678  &  5660   &  5018   & 4.4     & 22.2    & 70.7    & 1.2     & ...     & 5.0     & 1.7     & 2.8     & 27.5    &  3865   & 79.5    & 15.1    & 5.4     & 0.0     & 18.0   \\\\\n",
       "\\end{tabular}\n"
      ],
      "text/markdown": [
       "\n",
       "CensusId | State | County | TotalPop | Men | Women | Hispanic | White | Black | Native | ... | Walk | OtherTransp | WorkAtHome | MeanCommute | Employed | PrivateWork | PublicWork | SelfEmployed | FamilyWork | Unemployment | \n",
       "|---|---|---|---|---|---|\n",
       "| 1001    | Alabama | Autauga |  55221  | 26745   | 28476   | 2.6     | 75.8    | 18.5    | 0.4     | ...     | 0.5     | 1.3     | 1.8     | 26.5    | 23986   | 73.6    | 20.9    | 5.5     | 0.0     |  7.6    | \n",
       "| 1003    | Alabama | Baldwin | 195121  | 95314   | 99807   | 4.5     | 83.1    |  9.5    | 0.6     | ...     | 1.0     | 1.4     | 3.9     | 26.4    | 85953   | 81.5    | 12.3    | 5.8     | 0.4     |  7.5    | \n",
       "| 1005    | Alabama | Barbour |  26932  | 14497   | 12435   | 4.6     | 46.2    | 46.7    | 0.2     | ...     | 1.8     | 1.5     | 1.6     | 24.1    |  8597   | 71.8    | 20.8    | 7.3     | 0.1     | 17.6    | \n",
       "| 1007    | Alabama | Bibb    |  22604  | 12073   | 10531   | 2.2     | 74.5    | 21.4    | 0.4     | ...     | 0.6     | 1.5     | 0.7     | 28.8    |  8294   | 76.8    | 16.1    | 6.7     | 0.4     |  8.3    | \n",
       "| 1009    | Alabama | Blount  |  57710  | 28512   | 29198   | 8.6     | 87.9    |  1.5    | 0.3     | ...     | 0.9     | 0.4     | 2.3     | 34.9    | 22189   | 82.0    | 13.5    | 4.2     | 0.4     |  7.7    | \n",
       "| 1011    | Alabama | Bullock |  10678  |  5660   |  5018   | 4.4     | 22.2    | 70.7    | 1.2     | ...     | 5.0     | 1.7     | 2.8     | 27.5    |  3865   | 79.5    | 15.1    | 5.4     | 0.0     | 18.0    | \n",
       "\n",
       "\n"
      ],
      "text/plain": [
       "  CensusId State   County  TotalPop Men   Women Hispanic White Black Native ...\n",
       "1 1001     Alabama Autauga  55221   26745 28476 2.6      75.8  18.5  0.4    ...\n",
       "2 1003     Alabama Baldwin 195121   95314 99807 4.5      83.1   9.5  0.6    ...\n",
       "3 1005     Alabama Barbour  26932   14497 12435 4.6      46.2  46.7  0.2    ...\n",
       "4 1007     Alabama Bibb     22604   12073 10531 2.2      74.5  21.4  0.4    ...\n",
       "5 1009     Alabama Blount   57710   28512 29198 8.6      87.9   1.5  0.3    ...\n",
       "6 1011     Alabama Bullock  10678    5660  5018 4.4      22.2  70.7  1.2    ...\n",
       "  Walk OtherTransp WorkAtHome MeanCommute Employed PrivateWork PublicWork\n",
       "1 0.5  1.3         1.8        26.5        23986    73.6        20.9      \n",
       "2 1.0  1.4         3.9        26.4        85953    81.5        12.3      \n",
       "3 1.8  1.5         1.6        24.1         8597    71.8        20.8      \n",
       "4 0.6  1.5         0.7        28.8         8294    76.8        16.1      \n",
       "5 0.9  0.4         2.3        34.9        22189    82.0        13.5      \n",
       "6 5.0  1.7         2.8        27.5         3865    79.5        15.1      \n",
       "  SelfEmployed FamilyWork Unemployment\n",
       "1 5.5          0.0         7.6        \n",
       "2 5.8          0.4         7.5        \n",
       "3 7.3          0.1        17.6        \n",
       "4 6.7          0.4         8.3        \n",
       "5 4.2          0.4         7.7        \n",
       "6 5.4          0.0        18.0        "
      ]
     },
     "metadata": {},
     "output_type": "display_data"
    }
   ],
   "source": [
    "df = read.csv('acs2015_county_data.csv')\n",
    "head(df)"
   ]
  },
  {
   "cell_type": "code",
   "execution_count": 7,
   "metadata": {},
   "outputs": [
    {
     "data": {
      "text/html": [
       "<ol class=list-inline>\n",
       "\t<li>3220</li>\n",
       "\t<li>37</li>\n",
       "</ol>\n"
      ],
      "text/latex": [
       "\\begin{enumerate*}\n",
       "\\item 3220\n",
       "\\item 37\n",
       "\\end{enumerate*}\n"
      ],
      "text/markdown": [
       "1. 3220\n",
       "2. 37\n",
       "\n",
       "\n"
      ],
      "text/plain": [
       "[1] 3220   37"
      ]
     },
     "metadata": {},
     "output_type": "display_data"
    }
   ],
   "source": [
    "dim(df)"
   ]
  },
  {
   "cell_type": "markdown",
   "metadata": {},
   "source": [
    "Our dataframe contains 3,220 observations and 37 feature columns."
   ]
  },
  {
   "cell_type": "code",
   "execution_count": 8,
   "metadata": {},
   "outputs": [
    {
     "data": {
      "text/html": [
       "<ol class=list-inline>\n",
       "\t<li>3218</li>\n",
       "\t<li>37</li>\n",
       "</ol>\n"
      ],
      "text/latex": [
       "\\begin{enumerate*}\n",
       "\\item 3218\n",
       "\\item 37\n",
       "\\end{enumerate*}\n"
      ],
      "text/markdown": [
       "1. 3218\n",
       "2. 37\n",
       "\n",
       "\n"
      ],
      "text/plain": [
       "[1] 3218   37"
      ]
     },
     "metadata": {},
     "output_type": "display_data"
    }
   ],
   "source": [
    "df = na.omit(df)\n",
    "dim(df)"
   ]
  },
  {
   "cell_type": "markdown",
   "metadata": {
    "collapsed": true
   },
   "source": [
    "### We need to pull a meaningful subset of the features to perform a PCA:"
   ]
  },
  {
   "cell_type": "markdown",
   "metadata": {},
   "source": [
    "### Scale the features:"
   ]
  },
  {
   "cell_type": "code",
   "execution_count": 9,
   "metadata": {
    "collapsed": true
   },
   "outputs": [],
   "source": [
    "#scale the features:\n",
    "df['Men_perc'] = df['Men'] / (df['Men'] + df['Women'])\n",
    "df['Women_perc'] = df['Women'] / (df['Men'] + df['Women'])\n",
    "df['Employed_thousands'] = df['Employed'] / 1000\n",
    "df['Income_thousands'] = df['Income'] / 1000"
   ]
  },
  {
   "cell_type": "markdown",
   "metadata": {},
   "source": [
    "Rebuild the dataframe with new scaled features:"
   ]
  },
  {
   "cell_type": "code",
   "execution_count": 10,
   "metadata": {
    "collapsed": true
   },
   "outputs": [],
   "source": [
    "df = df[, c('Poverty', \n",
    "            'Women_perc', \n",
    "            'Income_thousands', \n",
    "            'Professional', \n",
    "            'Service', \n",
    "            'Office', \n",
    "            'Construction', \n",
    "            'Production', \n",
    "            'Drive', \n",
    "            'Carpool', \n",
    "            'Transit', \n",
    "            'Walk', \n",
    "            'OtherTransp', \n",
    "            'WorkAtHome', \n",
    "            'MeanCommute', \n",
    "            'Employed_thousands', \n",
    "            'PrivateWork', \n",
    "            'PublicWork', \n",
    "            'SelfEmployed', \n",
    "            'FamilyWork', \n",
    "            'Unemployment')]"
   ]
  },
  {
   "cell_type": "code",
   "execution_count": 11,
   "metadata": {},
   "outputs": [
    {
     "data": {
      "image/png": "[encoded data removed]",
      "text/plain": [
       "Plot with title \"\""
      ]
     },
     "metadata": {},
     "output_type": "display_data"
    }
   ],
   "source": [
    "corr_matrix = cor(df)\n",
    "corrplot(corr_matrix, method = 'ellipse')"
   ]
  },
  {
   "cell_type": "markdown",
   "metadata": {},
   "source": [
    "Initially viewing the correlation matrix, we saw that the **Poverty** rate showed several interesting correlations. The strongest appearing negative correlations to the Poverty rate are the **Income, Professional, Work At Home,** and **Private Work.** The strongest positively correlated variables to the Poverty rate are the **Service** (percentage of service workers), **Public Work,** and **Unemployment** rate. The Unemployment rate is negatively correlated to the **Income, Professional percentage, Work At Home, and Self Employed.** Unemployment rate is positively correlated with the **Poverty rate, percent Service workers, Mean Commute Time,** and **Public Work**.  \n",
    "\n",
    "**Production** is negatively correlated to **Professional**, which makes intuitive sense, as these are very different forms of work. **Service** is showing an interesting negative correlation to **Income**, meaning that people employed in the service industries are more likely to have a lower income level. **Men** and **Women** appear to share almost the same correlations to all variables, which may mean that gender does not have a significant effect.  \n",
    "\n",
    "### Use a principal component analysis to get the number of components: \n",
    "- Use the Eigenvector of the correlation matrix: "
   ]
  },
  {
   "cell_type": "code",
   "execution_count": 12,
   "metadata": {},
   "outputs": [
    {
     "data": {
      "text/plain": [
       "Importance of components:\n",
       "                          PC1    PC2    PC3     PC4     PC5     PC6     PC7\n",
       "Standard deviation     2.0766 1.8824 1.5881 1.26892 1.13748 1.09647 0.95210\n",
       "Proportion of Variance 0.2053 0.1687 0.1201 0.07667 0.06161 0.05725 0.04317\n",
       "Cumulative Proportion  0.2053 0.3741 0.4942 0.57085 0.63246 0.68971 0.73288\n",
       "                           PC8    PC9    PC10    PC11    PC12    PC13    PC14\n",
       "Standard deviation     0.92606 0.8886 0.81760 0.80099 0.79282 0.73378 0.65413\n",
       "Proportion of Variance 0.04084 0.0376 0.03183 0.03055 0.02993 0.02564 0.02038\n",
       "Cumulative Proportion  0.77372 0.8113 0.84315 0.87370 0.90363 0.92927 0.94964\n",
       "                         PC15    PC16    PC17    PC18     PC19     PC20    PC21\n",
       "Standard deviation     0.6131 0.54759 0.50709 0.35270 0.006816 0.005935 0.00519\n",
       "Proportion of Variance 0.0179 0.01428 0.01225 0.00592 0.000000 0.000000 0.00000\n",
       "Cumulative Proportion  0.9676 0.98183 0.99407 0.99999 1.000000 1.000000 1.00000"
      ]
     },
     "metadata": {},
     "output_type": "display_data"
    }
   ],
   "source": [
    "# use the Eigenvectors of the correlation matrix:\n",
    "pca = prcomp(df, scale. = TRUE)\n",
    "summary(pca)"
   ]
  },
  {
   "cell_type": "code",
   "execution_count": 13,
   "metadata": {},
   "outputs": [
    {
     "data": {
      "image/png": "[encoded data removed]",
      "text/plain": [
       "Plot with title \"pca\""
      ]
     },
     "metadata": {},
     "output_type": "display_data"
    }
   ],
   "source": [
    "plot(pca)\n",
    "abline(1, 0, col='red')"
   ]
  },
  {
   "cell_type": "markdown",
   "metadata": {},
   "source": [
    "We have **6 components** that captures approximately **68.97%** of the total variance within the data.  \n",
    "\n",
    "### Use component rotation (Varimax):"
   ]
  },
  {
   "cell_type": "code",
   "execution_count": 14,
   "metadata": {},
   "outputs": [
    {
     "name": "stdout",
     "output_type": "stream",
     "text": [
      "\n",
      "Loadings:\n",
      "                   RC2    RC1    RC3    RC4    RC5    RC6   \n",
      "Poverty             0.908                                   \n",
      "Income_thousands   -0.849                                   \n",
      "Professional       -0.505         0.421                0.452\n",
      "Unemployment        0.804                                   \n",
      "WorkAtHome                 0.737                            \n",
      "SelfEmployed               0.841                            \n",
      "FamilyWork                 0.661                            \n",
      "Production                       -0.730                     \n",
      "PrivateWork               -0.496 -0.713                     \n",
      "PublicWork                        0.797                     \n",
      "Drive                                   -0.708 -0.426       \n",
      "Walk                                     0.823              \n",
      "OtherTransp                              0.754              \n",
      "MeanCommute                             -0.560  0.488       \n",
      "Transit                                         0.792       \n",
      "Employed_thousands                              0.669       \n",
      "Women_perc                                             0.512\n",
      "Office                                                 0.527\n",
      "Construction                                          -0.673\n",
      "Carpool                                               -0.698\n",
      "Service             0.488         0.413                     \n",
      "\n",
      "                 RC2   RC1   RC3   RC4   RC5   RC6\n",
      "SS loadings    3.123 2.708 2.309 2.303 2.051 1.990\n",
      "Proportion Var 0.149 0.129 0.110 0.110 0.098 0.095\n",
      "Cumulative Var 0.149 0.278 0.388 0.497 0.595 0.690\n"
     ]
    }
   ],
   "source": [
    "pca_varimax = psych::principal(df, nfactors = 6, rotate = 'varimax', scores = TRUE)\n",
    "print(pca_varimax$loadings, cutoff = 0.4, sort = TRUE)"
   ]
  },
  {
   "cell_type": "markdown",
   "metadata": {
    "collapsed": true
   },
   "source": [
    "### Factor Analysis: Are There Clear Underlying Factors Possibly Relating to the Poverty Rate?  \n",
    "\n",
    "A factor analysis was performed in order to determine what factors may be intertwined within the dataset, and may possibly be driving the rate of impoverished workers and impoverished children. A principal component analysis performed earlier using the larger set of features showed strong loadings with the **ethnic/racial** groups. This factor analysis will omit the 6 racial groups, and try to determine underlying factors that **_exist outside of race/ethnicity._**  \n",
    "\n",
    "The ACS dataset broken down by County was imported into the R statistical computing system as a dataframe. The dataset initially contained 3,220 observations, and 37 feature columns. A subset of 25 features were chosen for the analysis: Child Poverty, Poverty, Men, Women, Income, Professional, Service, Office, Construction, Production, Drive, Carpool, Transit, Walk, Other Transp, Work At Home, MeanCommute, Employed, Private Work, Public Work, Self Employed, Family Work, and Unemployment.  \n",
    "\n",
    "After a few iterations of the factor analysis, it was decided to drop overly correlated variables that were causing mathematical warnings in the calculation. **Child Poverty** was dropped in favor of the **Poverty rate**, as their correlations with the rest of the dataset were nearly identical. The **Men** and **Women** were replaced by a single scaled feature, the percentage of Women (**Women_perc**), and the Employed and Income features were replaced by their respective numbers divided by 1,000 (**Employed_thousands, Income_thousands**). This brought them down to a similar numerical range with the rest of the dataset.  \n",
    "\n",
    "This resulted in 21 features that were used with the factor analysis: **Poverty, Women_perc, Income_thousands, Professional, Service, Office, Construction, Production, Drive, Carpool, Transit, Walk, Other Transp, Work At Home, Mean Commute time, Employed_thousands, Private Work, Public Work, Self Employed, Family Work, and Unemployment.**  \n",
    "\n",
    "An initial principal component analysis was performed to gauge the approximate number of components to use for the factor analysis. 6 components appeared to be most descriptive, all having Eigenvalues greater than 1 according to a scree plot, and captured approximately 68.9% of the total variance within the data. We initially ran the factor analysis calculation with a setting of 6 factors, however the resulting loadings indicated that Factor6 was only lightly loaded with one variable, the factor analysis was re-run with 5 factors. The 5 resulting factors captured approximately **54.8%** of the explained variance. "
   ]
  },
  {
   "cell_type": "code",
   "execution_count": 15,
   "metadata": {
    "collapsed": true
   },
   "outputs": [],
   "source": [
    "fa = factanal(df, factors = 5)"
   ]
  },
  {
   "cell_type": "code",
   "execution_count": 16,
   "metadata": {},
   "outputs": [
    {
     "name": "stdout",
     "output_type": "stream",
     "text": [
      "\n",
      "Loadings:\n",
      "                   Factor1 Factor2 Factor3 Factor4 Factor5\n",
      "WorkAtHome          0.674                                 \n",
      "SelfEmployed        0.992                                 \n",
      "Poverty                     0.950                         \n",
      "Income_thousands           -0.799                         \n",
      "Unemployment                0.723                         \n",
      "Drive              -0.439          -0.887                 \n",
      "Transit                             0.533                 \n",
      "Walk                                0.661                 \n",
      "OtherTransp                         0.550                 \n",
      "Professional                                0.862         \n",
      "Production                                 -0.632         \n",
      "PrivateWork        -0.610                           0.724 \n",
      "PublicWork                                         -0.898 \n",
      "Women_perc                                                \n",
      "Service                     0.425                         \n",
      "Office                                                    \n",
      "Construction                               -0.492         \n",
      "Carpool                                                   \n",
      "MeanCommute                                               \n",
      "Employed_thousands                                        \n",
      "FamilyWork          0.407                                 \n",
      "\n",
      "               Factor1 Factor2 Factor3 Factor4 Factor5\n",
      "SS loadings      2.847   2.691   2.181   2.030   1.758\n",
      "Proportion Var   0.136   0.128   0.104   0.097   0.084\n",
      "Cumulative Var   0.136   0.264   0.368   0.464   0.548\n"
     ]
    }
   ],
   "source": [
    "print(fa$loadings, cutoff = 0.4, sort = TRUE)"
   ]
  },
  {
   "cell_type": "markdown",
   "metadata": {},
   "source": [
    "### The factor loadings:  \n",
    "\n",
    "With 5 factors, we have captured approximately **54.8%** of the total variance within our data subset.  \n",
    "\n",
    "Examining the factor loadings, we saw that Factor2 was loaded with Poverty, Income, Unemployment, and Service. This was an interesting finding, as the percentage of Service workers were the only occupational category loaded on this factor out of the total set of Professional, Service, Office, Construction, Production, and Self Employed workers. This is an indication that working in a Service industry may be a significant predictor in a worker’s level of Poverty. The factor scores are expressed as:  \n",
    "\n",
    "- **Factor1** = (0.674 \\* WorkAtHome) + (0.992 \\* SelfEmployed) + (0.407 \\* FamilyWork)\n",
    " - **realtes to how much the worker is able to work from their home**\n",
    " - **possible name: Works at Home**  \n",
    "\n",
    "\n",
    "- **Factor2** = (0.950 \\* Poverty) - (0.799 \\* Income_thousands) + (0.723 \\* Unemployment) + (0.425 \\* Service)\n",
    " - **realtes to how much the person is impoverished, low income, and works in a service industry**\n",
    " - **possible name: Impoverished**  \n",
    "\n",
    "\n",
    "- **Factor3** = - (0.887 \\* Drive) + (0.533 \\* Transit) + (0.661 \\* Walk) + (0.550 \\* OtherTransp)\n",
    " - **relates to how much the person takes other transportation and does not drive to work**\n",
    " - **possible name: Does Not Drive**  \n",
    "\n",
    "\n",
    "- **Factor4** = (0.862 \\* Professional) - (0.632 \\* Production) - (0.492 \\* Construction)\n",
    " - **relates to the degree of white collar work and not labor jobs**\n",
    " - **possible name: White-collar Worker**  \n",
    "\n",
    "\n",
    "- **Factor5** = (0.724 \\* PrivateWork) - (0.898 \\* PublicWork)\n",
    " - **relates to the degree of public sector work the worker is engaged in**\n",
    " - **possible name: Public Sector Worker**  \n",
    "\n",
    "The 5 factors that resulted from the factor analysis appear to clearly relate to certain aspects of the population within the dataset. **Factor1** *is related to how much the worker is able to work from their home.* **Factor2** *is related to how much the worker is impoverished, low income, and works in the Service industry.* **Factor3** *is related to how much the person takes other transportation and does not drive to work.* **Factor4** *relates to whether the worker is a white-collar professional and not working in a production or labor position.* **Factor5** *relates to the degree of private sector work that the worker is engaged in.* The ratio of Women to Total population (**Women percentage**) did not show any loading greater than our threshold on any of our factors, which was a surprising finding. Again, the loading of **Service** workers on Factor2 is a relatively unique occurrence with the loadings breakdown relative to the other professional categories, and requires some further analysis. "
   ]
  },
  {
   "cell_type": "markdown",
   "metadata": {},
   "source": [
    "### Surrogate Regression Analysis: \n",
    "\n",
    "We then chose the most highly loaded variables from each of these 5 factors as surrogates and ran a regression model, using the **Poverty** as the response variable. The independent surrogate variables were chosen as **Self Employed** (from Factor1), **Drive** (from Factor3), **Professional** (from Factor4), and **Public Work** (from Factor5).  \n",
    "\n",
    "The response variable Poverty rate had to be log transformed, as it was right-skewed. The resulting feature log_Poverty was approximately normally distributed, and log_Poverty was used in the regression fitting.  "
   ]
  },
  {
   "cell_type": "markdown",
   "metadata": {},
   "source": [
    "### Check regression model assumptions:\n",
    "- transform response\n",
    "- transform predictors?\n",
    "- multicollinearity?\n",
    "- residual plots"
   ]
  },
  {
   "cell_type": "code",
   "execution_count": 17,
   "metadata": {},
   "outputs": [
    {
     "data": {
      "image/png": "[encoded data removed]",
      "text/plain": [
       "Plot with title \"Histogram of df[, \"Poverty\"]\""
      ]
     },
     "metadata": {},
     "output_type": "display_data"
    }
   ],
   "source": [
    "# eliminate the skewness of the Poverty response variable:\n",
    "hist(df[, 'Poverty'])"
   ]
  },
  {
   "cell_type": "code",
   "execution_count": 18,
   "metadata": {
    "collapsed": true
   },
   "outputs": [],
   "source": [
    "df['log_Poverty'] = log(df[, 'Poverty'])"
   ]
  },
  {
   "cell_type": "markdown",
   "metadata": {},
   "source": [
    "The use of a forward model selection was used to determine the significance of the surrogate predictors. A k-fold cross validation was used to validate the model, a value of k=3 was chosen, giving us 3 samples of 2145, 2147, and 2144 observations. The residuals were approximately normally distributed. The variance inflation factors were all between 1.06 to 1.28, indicating that multicollinearity is not a problem with the model. "
   ]
  },
  {
   "cell_type": "code",
   "execution_count": 19,
   "metadata": {},
   "outputs": [
    {
     "name": "stdout",
     "output_type": "stream",
     "text": [
      "Start:  AIC=-5289.11\n",
      "log_Poverty ~ 1\n",
      "\n",
      "               Df Sum of Sq    RSS     AIC\n",
      "+ Professional  1   122.317 499.28 -5992.3\n",
      "+ PublicWork    1    64.146 557.45 -5637.6\n",
      "+ SelfEmployed  1    14.019 607.58 -5360.5\n",
      "+ Drive         1     5.171 616.43 -5314.0\n",
      "<none>                      621.60 -5289.1\n",
      "\n",
      "Step:  AIC=-5992.25\n",
      "log_Poverty ~ Professional\n",
      "\n",
      "               Df Sum of Sq    RSS     AIC\n",
      "+ PublicWork    1    83.252 416.03 -6577.3\n",
      "+ SelfEmployed  1     3.074 496.21 -6010.1\n",
      "+ Drive         1     0.548 498.73 -5993.8\n",
      "<none>                      499.28 -5992.3\n",
      "\n",
      "Step:  AIC=-6577.26\n",
      "log_Poverty ~ Professional + PublicWork\n",
      "\n",
      "               Df Sum of Sq    RSS     AIC\n",
      "+ SelfEmployed  1    3.8997 412.13 -6605.6\n",
      "+ Drive         1    1.7435 414.28 -6588.8\n",
      "<none>                      416.03 -6577.3\n",
      "\n",
      "Step:  AIC=-6605.57\n",
      "log_Poverty ~ Professional + PublicWork + SelfEmployed\n",
      "\n",
      "        Df Sum of Sq    RSS     AIC\n",
      "+ Drive  1   0.46704 411.66 -6607.2\n",
      "<none>               412.13 -6605.6\n",
      "\n",
      "Step:  AIC=-6607.22\n",
      "log_Poverty ~ Professional + PublicWork + SelfEmployed + Drive\n",
      "\n"
     ]
    }
   ],
   "source": [
    "# choose some surrogates from the factors:\n",
    "null = lm(log_Poverty ~ 1, data = df)\n",
    "full = lm(log_Poverty ~ SelfEmployed + Drive + Professional + PublicWork, data = df)\n",
    "linear_regressor_fw = step(null, scope=list(lower=null, upper=full), direction='forward')"
   ]
  },
  {
   "cell_type": "code",
   "execution_count": 20,
   "metadata": {},
   "outputs": [
    {
     "data": {
      "text/plain": [
       "\n",
       "Call:\n",
       "lm(formula = log_Poverty ~ Professional + PublicWork + SelfEmployed + \n",
       "    Drive, data = df)\n",
       "\n",
       "Residuals:\n",
       "     Min       1Q   Median       3Q      Max \n",
       "-2.14246 -0.22448  0.00846  0.21508  1.37498 \n",
       "\n",
       "Coefficients:\n",
       "               Estimate Std. Error t value Pr(>|t|)    \n",
       "(Intercept)   3.2176295  0.0964849  33.349  < 2e-16 ***\n",
       "Professional -0.0316669  0.0010344 -30.614  < 2e-16 ***\n",
       "PublicWork    0.0255969  0.0010086  25.379  < 2e-16 ***\n",
       "SelfEmployed -0.0079037  0.0017467  -4.525 6.26e-06 ***\n",
       "Drive         0.0017948  0.0009401   1.909   0.0563 .  \n",
       "---\n",
       "Signif. codes:  0 '***' 0.001 '**' 0.01 '*' 0.05 '.' 0.1 ' ' 1\n",
       "\n",
       "Residual standard error: 0.3579 on 3213 degrees of freedom\n",
       "Multiple R-squared:  0.3377,\tAdjusted R-squared:  0.3369 \n",
       "F-statistic: 409.6 on 4 and 3213 DF,  p-value: < 2.2e-16\n"
      ]
     },
     "metadata": {},
     "output_type": "display_data"
    }
   ],
   "source": [
    "summary(linear_regressor_fw)"
   ]
  },
  {
   "cell_type": "code",
   "execution_count": 21,
   "metadata": {
    "collapsed": true
   },
   "outputs": [],
   "source": [
    "# check residual plot:\n",
    "residuals = resid(linear_regressor_fw)"
   ]
  },
  {
   "cell_type": "code",
   "execution_count": 22,
   "metadata": {},
   "outputs": [
    {
     "data": {
      "image/png": "[encoded data removed]",
      "text/plain": [
       "Plot with title \"Histogram of residuals\""
      ]
     },
     "metadata": {},
     "output_type": "display_data"
    }
   ],
   "source": [
    "hist(residuals)"
   ]
  },
  {
   "cell_type": "markdown",
   "metadata": {
    "collapsed": true
   },
   "source": [
    "### Use k-fold cross validation to train and validate the regression model:\n",
    "- Our k = 3"
   ]
  },
  {
   "cell_type": "code",
   "execution_count": 23,
   "metadata": {
    "collapsed": true
   },
   "outputs": [],
   "source": [
    "train_control = trainControl(method = 'cv', number = 3, savePredictions = TRUE)\n",
    "\n",
    "#train the model\n",
    "linear_reg_cv = train(log_Poverty ~ SelfEmployed + Drive + Professional + PublicWork, data=df, \n",
    "                      trControl=train_control, method='lm')"
   ]
  },
  {
   "cell_type": "code",
   "execution_count": 24,
   "metadata": {},
   "outputs": [
    {
     "data": {
      "text/plain": [
       "\n",
       "Call:\n",
       "lm(formula = .outcome ~ ., data = dat)\n",
       "\n",
       "Residuals:\n",
       "     Min       1Q   Median       3Q      Max \n",
       "-2.14246 -0.22448  0.00846  0.21508  1.37498 \n",
       "\n",
       "Coefficients:\n",
       "               Estimate Std. Error t value Pr(>|t|)    \n",
       "(Intercept)   3.2176295  0.0964849  33.349  < 2e-16 ***\n",
       "SelfEmployed -0.0079037  0.0017467  -4.525 6.26e-06 ***\n",
       "Drive         0.0017948  0.0009401   1.909   0.0563 .  \n",
       "Professional -0.0316669  0.0010344 -30.614  < 2e-16 ***\n",
       "PublicWork    0.0255969  0.0010086  25.379  < 2e-16 ***\n",
       "---\n",
       "Signif. codes:  0 '***' 0.001 '**' 0.01 '*' 0.05 '.' 0.1 ' ' 1\n",
       "\n",
       "Residual standard error: 0.3579 on 3213 degrees of freedom\n",
       "Multiple R-squared:  0.3377,\tAdjusted R-squared:  0.3369 \n",
       "F-statistic: 409.6 on 4 and 3213 DF,  p-value: < 2.2e-16\n"
      ]
     },
     "metadata": {},
     "output_type": "display_data"
    }
   ],
   "source": [
    "summary(linear_reg_cv)"
   ]
  },
  {
   "cell_type": "code",
   "execution_count": 25,
   "metadata": {},
   "outputs": [
    {
     "name": "stdout",
     "output_type": "stream",
     "text": [
      "Linear Regression \n",
      "\n",
      "3218 samples\n",
      "   4 predictor\n",
      "\n",
      "No pre-processing\n",
      "Resampling: Cross-Validated (3 fold) \n",
      "Summary of sample sizes: 2145, 2146, 2145 \n",
      "Resampling results:\n",
      "\n",
      "  RMSE       Rsquared   MAE      \n",
      "  0.3585599  0.3347399  0.2724456\n",
      "\n",
      "Tuning parameter 'intercept' was held constant at a value of TRUE\n"
     ]
    }
   ],
   "source": [
    "print(linear_reg_cv)"
   ]
  },
  {
   "cell_type": "code",
   "execution_count": 26,
   "metadata": {},
   "outputs": [
    {
     "data": {
      "text/html": [
       "<dl class=dl-horizontal>\n",
       "\t<dt>Professional</dt>\n",
       "\t\t<dd>1.08961364919139</dd>\n",
       "\t<dt>PublicWork</dt>\n",
       "\t\t<dd>1.06528502720909</dd>\n",
       "\t<dt>SelfEmployed</dt>\n",
       "\t\t<dd>1.17374939669785</dd>\n",
       "\t<dt>Drive</dt>\n",
       "\t\t<dd>1.28666222067749</dd>\n",
       "</dl>\n"
      ],
      "text/latex": [
       "\\begin{description*}\n",
       "\\item[Professional] 1.08961364919139\n",
       "\\item[PublicWork] 1.06528502720909\n",
       "\\item[SelfEmployed] 1.17374939669785\n",
       "\\item[Drive] 1.28666222067749\n",
       "\\end{description*}\n"
      ],
      "text/markdown": [
       "Professional\n",
       ":   1.08961364919139PublicWork\n",
       ":   1.06528502720909SelfEmployed\n",
       ":   1.17374939669785Drive\n",
       ":   1.28666222067749\n",
       "\n"
      ],
      "text/plain": [
       "Professional   PublicWork SelfEmployed        Drive \n",
       "    1.089614     1.065285     1.173749     1.286662 "
      ]
     },
     "metadata": {},
     "output_type": "display_data"
    }
   ],
   "source": [
    "vif(linear_regressor_fw)"
   ]
  },
  {
   "cell_type": "markdown",
   "metadata": {
    "collapsed": true
   },
   "source": [
    "### Interpret the coefficients: \n",
    "\n",
    "The model equation was found to contain all 4 predictors, and all were statistically significant.  \n",
    "\n",
    "**_log(Poverty) = 3.2176 - (0.0079 \\* SelfEmployed) + (0.0018 \\* Drive) - (0.03167 \\* Professional) + (0.0256 \\* PublicWork)_**    \n",
    "\n",
    "- **SelfEmployed:** (exp (0.0079037) – 1) \\* 100 = **0.79% decrease in Poverty rate.**\n",
    "- **Drive:** (exp (0.0017948) – 1) \\* 100 = **0.18% increase in Poverty rate.**\n",
    "- **Professional:** (exp (0.0316669) – 1) \\* 100 = **3.22% decrease in Poverty rate.**\n",
    "- **PublicWork:** (exp (0.0255969) – 1) \\* 100 = **2.59% increase in Poverty rate.**  "
   ]
  },
  {
   "cell_type": "markdown",
   "metadata": {
    "collapsed": true
   },
   "source": [
    "### Findings:  \n",
    "\n",
    "For a given Census tract, the regression equation shows that for every increase of 1% of workers engaged in **public jobs,** the Poverty rate increases by **2.59%.** For every increase of 1% of **professional white-collar workers,** the Poverty rate decreases by **3.22%.** For every increase of 1% of **self employed workers,** the Poverty rate decreases by **0.79%.** For every increase of 1% of workers in the Census tract that **drive themselves to work,** the resulting Poverty rate increases by **0.18%.**  \n",
    "\n",
    "Our factor analysis and the subsequent regression analysis have shown that underlying the features of this dataset, there are several significant entangled factors that have an effect on the Poverty rate of a given Census tract. **Income, unemployment rate, working in the service industry, workers in public jobs, professional, self employed,** and **workers that self-drive** are all predictors that have an effect on the poverty rate.  \n",
    "<hr>\n",
    "Predictors that show an increasing effect are: **Unemployment** rate, percent in **Service** jobs, percent of workers in **Public Work,** and to a lesser extent, the percentage of workers that **Self Drive.**  \n",
    "\n",
    "Predictors that show a decreasing effect are: the **Income** level, percentage of **Professional** workers, and percentage of **Self Employed workers.**  "
   ]
  },
  {
   "cell_type": "code",
   "execution_count": null,
   "metadata": {
    "collapsed": true
   },
   "outputs": [],
   "source": []
  }
 ],
 "metadata": {
  "kernelspec": {
   "display_name": "R",
   "language": "R",
   "name": "ir"
  },
  "language_info": {
   "codemirror_mode": "r",
   "file_extension": ".r",
   "mimetype": "text/x-r-source",
   "name": "R",
   "pygments_lexer": "r",
   "version": "3.4.2"
  }
 },
 "nbformat": 4,
 "nbformat_minor": 2
}
