{
 "cells": [
  {
   "cell_type": "code",
   "execution_count": 41,
   "metadata": {},
   "outputs": [
    {
     "name": "stdout",
     "output_type": "stream",
     "text": [
      "steve 23.2\n",
      "alice 12.4\n",
      "bob 18.6\n",
      "steve 10.1\n",
      "alice 4.7\n",
      "\n",
      "steve bob\n"
     ]
    }
   ],
   "source": [
    "s = 'steve 23.2\\nalice 12.4\\nbob 18.6\\nsteve 10.1\\nalice 4.7\\n\\nsteve bob'\n",
    "print(s)"
   ]
  },
  {
   "cell_type": "code",
   "execution_count": 42,
   "metadata": {},
   "outputs": [
    {
     "name": "stdout",
     "output_type": "stream",
     "text": [
      "['steve 23.2', 'alice 12.4', 'bob 18.6', 'steve 10.1', 'alice 4.7', '', 'steve bob']\n"
     ]
    }
   ],
   "source": [
    "li = s.splitlines()\n",
    "print(li)"
   ]
  },
  {
   "cell_type": "code",
   "execution_count": 43,
   "metadata": {
    "collapsed": true
   },
   "outputs": [],
   "source": [
    "# build dict\n",
    "sales_dict = {}\n",
    "sales_index = len(li) - 2\n",
    "\n",
    "for i in range(sales_index):\n",
    "    split_line = li[i].split()\n",
    "    name = split_line[0]\n",
    "    sales = float(split_line[1])\n",
    "    if name in sales_dict:\n",
    "        sales_dict[name].append(sales)\n",
    "    else:\n",
    "        sales_dict[name] = [sales]"
   ]
  },
  {
   "cell_type": "code",
   "execution_count": 44,
   "metadata": {},
   "outputs": [
    {
     "data": {
      "text/plain": [
       "{'alice': [12.4, 4.7], 'bob': [18.6], 'steve': [23.2, 10.1]}"
      ]
     },
     "execution_count": 44,
     "metadata": {},
     "output_type": "execute_result"
    }
   ],
   "source": [
    "sales_dict"
   ]
  },
  {
   "cell_type": "code",
   "execution_count": 45,
   "metadata": {
    "collapsed": true
   },
   "outputs": [],
   "source": [
    "# calc sales avg\n",
    "names_report = li[-1]\n",
    "names_report = names_report.split()"
   ]
  },
  {
   "cell_type": "code",
   "execution_count": 46,
   "metadata": {},
   "outputs": [
    {
     "name": "stdout",
     "output_type": "stream",
     "text": [
      "16.65\n",
      "18.6\n"
     ]
    }
   ],
   "source": [
    "for name in names_report:\n",
    "    sales_avg = 0.0\n",
    "    sales_avg = sum(sales_dict[name]) / len(sales_dict[name])\n",
    "    print(sales_avg)"
   ]
  },
  {
   "cell_type": "markdown",
   "metadata": {},
   "source": [
    "### recall"
   ]
  },
  {
   "cell_type": "code",
   "execution_count": 60,
   "metadata": {
    "collapsed": true
   },
   "outputs": [],
   "source": [
    "pred = ['N', 'N', 'N', 'N', 'P']\n",
    "true = ['N', 'P', 'N', 'P', 'P']"
   ]
  },
  {
   "cell_type": "code",
   "execution_count": 61,
   "metadata": {
    "collapsed": true
   },
   "outputs": [],
   "source": [
    "tp = 0\n",
    "fp = 0\n",
    "tn = 0\n",
    "fn = 0\n",
    "flag = 'f'\n",
    "\n",
    "try:\n",
    "    for i in range(len(true)):\n",
    "        if true[i] == 'P' and pred[i] == 'P':\n",
    "            tp += 1\n",
    "        elif true[i] == 'P' and pred[i] == 'N':\n",
    "            fn += 1\n",
    "        elif true[i] == 'N' and pred[i] == 'N':\n",
    "            tn += 1\n",
    "        elif true[i] == 'N' and pred[i] == 'P':\n",
    "            fp += 1\n",
    "except:\n",
    "    flag = 'NONE'"
   ]
  },
  {
   "cell_type": "code",
   "execution_count": 62,
   "metadata": {
    "collapsed": true
   },
   "outputs": [],
   "source": [
    "try:\n",
    "    precision = tp / (tp + fp)\n",
    "except:\n",
    "    precision = -1\n",
    "\n",
    "try:\n",
    "    recall = tp / (tp + fn)\n",
    "except:\n",
    "    recall = -1"
   ]
  },
  {
   "cell_type": "code",
   "execution_count": 63,
   "metadata": {},
   "outputs": [
    {
     "name": "stdout",
     "output_type": "stream",
     "text": [
      "1.0\n",
      "0.3333333333333333\n"
     ]
    }
   ],
   "source": [
    "if flag != 'NONE':\n",
    "    if precision > recall:\n",
    "        print(precision)\n",
    "    else:\n",
    "        print(recall)\n",
    "else:\n",
    "    print(flag)"
   ]
  },
  {
   "cell_type": "code",
   "execution_count": null,
   "metadata": {
    "collapsed": true
   },
   "outputs": [],
   "source": []
  }
 ],
 "metadata": {
  "kernelspec": {
   "display_name": "Python 3",
   "language": "python",
   "name": "python3"
  },
  "language_info": {
   "codemirror_mode": {
    "name": "ipython",
    "version": 3
   },
   "file_extension": ".py",
   "mimetype": "text/x-python",
   "name": "python",
   "nbconvert_exporter": "python",
   "pygments_lexer": "ipython3",
   "version": "3.6.3"
  }
 },
 "nbformat": 4,
 "nbformat_minor": 2
}
